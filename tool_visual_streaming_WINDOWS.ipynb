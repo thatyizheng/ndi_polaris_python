{
 "cells": [
  {
   "cell_type": "code",
   "execution_count": 1,
   "metadata": {},
   "outputs": [],
   "source": [
    "import vtk\n",
    "import numpy as np\n",
    "import pandas as pd\n",
    "import time\n",
    "import queue\n",
    "import threading\n",
    "import re\n",
    "from PyQt5.QtWidgets import QApplication\n",
    "from PyQt5.QtCore import QTimer\n",
    "import sys\n",
    "from sksurgerynditracker.nditracker import NDITracker\n",
    "import os\n",
    "import random\n",
    "import multiprocessing\n"
   ]
  },
  {
   "cell_type": "code",
   "execution_count": 2,
   "metadata": {},
   "outputs": [],
   "source": [
    "# Tool Tip Offset (Medtronic 960-556) is from Mike's GitHub Repo\n",
    "TOOL_TIP_OFFSET = np.array([-304.5728,-0.3053,-0.1412, 1])"
   ]
  },
  {
   "cell_type": "code",
   "execution_count": 3,
   "metadata": {},
   "outputs": [],
   "source": [
    "# Initialize the NDI tracker\n",
    "SETTINGS = {\n",
    "    \"tracker type\": \"vega\",\n",
    "    \"ip address\": \"169.254.7.250\",\n",
    "    \"port\": 8765,\n",
    "    # Mac Path\n",
    "    # \"romfiles\": [\"/Users/yizheng/Desktop/Dartmouth/lab work/ARPAH/Polaris Vega XT/tool_defs/medtronic_chicken_foot_960_556.rom\"]\n",
    "    # Windows Path\n",
    "    \"romfiles\": [\"C:\\\\Users\\\\f007wsq\\\\Desktop\\\\tools_and_models\\\\tool_defs\\\\medtronic_chicken_foot_960_556.rom\"]\n",
    "}\n",
    "tracker = NDITracker(SETTINGS)\n",
    "tracker.start_tracking()"
   ]
  },
  {
   "cell_type": "code",
   "execution_count": 4,
   "metadata": {},
   "outputs": [],
   "source": [
    "# Initialize vtk\n",
    "tool_reader = vtk.vtkSTLReader() # read stl file\n",
    "tool_reader.SetFileName(\"C:\\\\Users\\\\f007wsq\\\\Desktop\\\\tools_and_models\\\\tool_stl_models\\\\medtronic_chicken_foot.STL\") # set the file name\n",
    "tool_reader.Update() # update the reader\n",
    "\n",
    "tool_mapper = vtk.vtkPolyDataMapper() # create a mapper, a mapper is used to map the data to the graphics primitives\n",
    "tool_mapper.SetInputData(tool_reader.GetOutput()) # set the input to the reader\n",
    "\n",
    "tool_actor = vtk.vtkActor() # create an actor, an actor is used to display the data\n",
    "tool_actor.SetMapper(tool_mapper) # set the mapper to the actor\n",
    "\n",
    "renderer = vtk.vtkRenderer() # create a renderer, a renderer is used to display the data\n",
    "render_window = vtk.vtkRenderWindow() # create a render window, a render window is used to display the data\n",
    "render_window.AddRenderer(renderer) # add the renderer to the render window\n",
    "render_window.SetSize(1000, 800) # set the size of the render window\n",
    "\n",
    "render_window_interactor = vtk.vtkRenderWindowInteractor() # create a render window interactor, a render window interactor is used to interact with the data\n",
    "render_window_interactor.SetRenderWindow(render_window) # set the render window to the render window interactor\n",
    "\n",
    "renderer.AddActor(tool_actor) # add the actor to the renderer\n",
    "renderer.SetBackground(1, 1, 1) # set the background of the renderer\n",
    "\n",
    "# 创建坐标轴\n",
    "axes = vtk.vtkAxesActor()\n",
    "axes.SetTotalLength(200, 200, 200)  # 设置坐标轴的长度\n",
    "axes.SetAxisLabels(True)\n",
    "\n",
    "# 设置坐标轴标签的位置\n",
    "axes.GetXAxisCaptionActor2D().GetTextActor().GetPositionCoordinate().SetCoordinateSystemToNormalizedDisplay()\n",
    "axes.GetYAxisCaptionActor2D().GetTextActor().GetPositionCoordinate().SetCoordinateSystemToNormalizedDisplay()\n",
    "axes.GetZAxisCaptionActor2D().GetTextActor().GetPositionCoordinate().SetCoordinateSystemToNormalizedDisplay()\n",
    "\n",
    "# 设置坐标轴标签\n",
    "axes.GetXAxisCaptionActor2D().GetTextActor().GetProperty().SetColor(1, 0, 0)  # X轴为红色\n",
    "axes.GetYAxisCaptionActor2D().GetTextActor().GetProperty().SetColor(0, 1, 0)  # Y轴为绿色\n",
    "axes.GetZAxisCaptionActor2D().GetTextActor().GetProperty().SetColor(0, 0, 1)  # Z轴为蓝色\n",
    "\n",
    "# 将坐标轴添加到 renderer\n",
    "renderer.AddActor(axes)\n",
    "\n",
    "# 设定摄像机视角，固定在 (0, 0, -3000) 位置\n",
    "renderer.GetActiveCamera().SetPosition(-1000, 1000, -5000)  # 摄像机位置\n",
    "renderer.GetActiveCamera().SetFocalPoint(0, 0, -2000)  # 摄像机焦点\n",
    "renderer.GetActiveCamera().SetViewUp(-1, 0, 0)  # 设置“上”方向\n",
    "renderer.GetActiveCamera().SetClippingRange(1, 3000)  # 设置裁剪范围"
   ]
  },
  {
   "cell_type": "code",
   "execution_count": null,
   "metadata": {},
   "outputs": [],
   "source": [
    "cwd = os.getcwd()\n",
    "models = []\n",
    "\n",
    "# For Mac Path\n",
    "# for file in os.listdir(cwd + '/' + 'slicer_files/'):\n",
    "\n",
    "# For Windows Path\n",
    "for file in os.listdir(\"C:\\\\Users\\\\f007wsq\\Desktop\\\\tools_and_models\\\\slicer_files\"):\n",
    "    if file.endswith('.vtk') or file.endswith('.stl'):\n",
    "        models.append(file)\n",
    "\n",
    "print(models)"
   ]
  },
  {
   "cell_type": "code",
   "execution_count": 6,
   "metadata": {},
   "outputs": [],
   "source": [
    "# transformation_matrix is calculated using \"phantom_registration.ipynb\"\n",
    "transformation_matrix = np.array([[-1.78752390e-02,  9.97490742e-01,  6.85032455e-02,  1.20512994e+02],\n",
    " [ 9.99681492e-01,  1.90512108e-02, -1.65519287e-02,  5.60709263e+01],\n",
    " [-1.78154654e-02,  6.81855570e-02, -9.97513578e-01, -1.31217738e+03],\n",
    " [ 0.00000000e+00,  0.00000000e+00,  0.00000000e+00,  1.00000000e+00]])"
   ]
  },
  {
   "cell_type": "code",
   "execution_count": 7,
   "metadata": {},
   "outputs": [],
   "source": [
    "# Loop through model files, load them, and add them to the renderer\n",
    "for file in models:\n",
    "    if file.endswith(\".stl\"):\n",
    "        model_reader = vtk.vtkSTLReader()\n",
    "\n",
    "        # Mac Path\n",
    "        # reader.SetFileName(cwd + '/' + 'slicer_files/' + file)\n",
    "\n",
    "        # Windows Path\n",
    "        model_reader.SetFileName(\"C:\\\\Users\\\\f007wsq\\\\Desktop\\\\tools_and_models\\\\slicer_files\\\\\" + file)\n",
    "\n",
    "    elif file.endswith(\".vtk\"):\n",
    "        model_reader = vtk.vtkPolyDataReader()\n",
    "        \n",
    "        # Mac Path\n",
    "        # reader.SetFileName(cwd + '/' + 'slicer_files/' + file)\n",
    "\n",
    "        # Windows Path\n",
    "        model_reader.SetFileName(\"C:\\\\Users\\\\f007wsq\\\\Desktop\\\\tools_and_models\\\\slicer_files\\\\\" + file)\n",
    "    else:\n",
    "        continue  # Skip unsupported formats\n",
    "\n",
    "    # Update the reader to load the data\n",
    "    model_reader.Update()\n",
    "\n",
    "    # Create a mapper and actor to display the model\n",
    "    model_mapper = vtk.vtkPolyDataMapper()\n",
    "    model_mapper.SetInputData(model_reader.GetOutput())\n",
    "    model_actor = vtk.vtkActor()\n",
    "    model_actor.SetMapper(model_mapper)\n",
    "    model_actor.GetProperty().SetColor(random.randint(0, 255)/255, random.randint(0, 255)/255, random.randint(0, 255)/255)\n",
    "\n",
    "    transform = vtk.vtkTransform()\n",
    "    transform.SetMatrix(transformation_matrix.flatten()) \n",
    "    model_actor.SetUserTransform(transform)\n",
    "\n",
    "\n",
    "    if file.startswith(\"Box\"):\n",
    "        model_actor.GetProperty().SetOpacity(0.05)  # 设置透明度 (0.0 - 完全透明, 1.0 - 完全不透明)\n",
    "    if file.startswith(\"Box_1\"):\n",
    "        model_actor.GetProperty().SetOpacity(0.00)  # 设置透明度 (0.0 - 完全透明, 1.0 - 完全不透明)\n",
    "    # Add the actor to the renderer\n",
    "    renderer.AddActor(model_actor)"
   ]
  },
  {
   "cell_type": "code",
   "execution_count": 8,
   "metadata": {},
   "outputs": [],
   "source": [
    "def get_tracking_data(tracker):\n",
    "    \"\"\"Fetch latest tracking data\"\"\"\n",
    "    port_handles, timestamps, framenumbers, transformation, quality = tracker.get_frame()\n",
    "    transformation = np.array(transformation[0])\n",
    "    return timestamps, transformation, quality"
   ]
  },
  {
   "cell_type": "code",
   "execution_count": 9,
   "metadata": {},
   "outputs": [],
   "source": [
    "data_lock = threading.Lock()\n",
    "data_ready = threading.Event()\n",
    "data_queue = queue.Queue()\n",
    "\n",
    "def polaris_thread():\n",
    "    global polaris_matrix\n",
    "    while True:\n",
    "        _, new_matrix, _ = get_tracking_data(tracker)\n",
    "        data_queue.put(new_matrix)\n",
    "        time.sleep(1/400)"
   ]
  },
  {
   "cell_type": "code",
   "execution_count": 10,
   "metadata": {},
   "outputs": [],
   "source": [
    "# VTK Update Thread\n",
    "def update_pose(obj, event):\n",
    "    global polaris_matrix\n",
    "\n",
    "    if not data_queue.empty():\n",
    "        polaris_matrix = data_queue.get()\n",
    "        transform = vtk.vtkTransform()\n",
    "        transform.SetMatrix(polaris_matrix.flatten()) \n",
    "        tool_actor.SetUserTransform(transform)\n",
    "        render_window.Render()\n",
    "        print(\"pose updated\")"
   ]
  },
  {
   "cell_type": "code",
   "execution_count": null,
   "metadata": {},
   "outputs": [],
   "source": [
    "threading.Thread(target=polaris_thread, daemon=False).start()\n",
    "\n",
    "render_window.Render()\n",
    "render_window_interactor.Initialize()\n",
    "render_window_interactor.AddObserver(\"TimerEvent\", update_pose)\n",
    "render_window_interactor.CreateRepeatingTimer(1)\n",
    "render_window_interactor.Start()"
   ]
  }
 ],
 "metadata": {
  "kernelspec": {
   "display_name": "ndi",
   "language": "python",
   "name": "python3"
  },
  "language_info": {
   "codemirror_mode": {
    "name": "ipython",
    "version": 3
   },
   "file_extension": ".py",
   "mimetype": "text/x-python",
   "name": "python",
   "nbconvert_exporter": "python",
   "pygments_lexer": "ipython3",
   "version": "3.9.21"
  }
 },
 "nbformat": 4,
 "nbformat_minor": 2
}
