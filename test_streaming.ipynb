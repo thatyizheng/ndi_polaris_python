{
 "cells": [
  {
   "cell_type": "code",
   "execution_count": 1,
   "metadata": {},
   "outputs": [],
   "source": [
    "from sksurgerynditracker.nditracker import NDITracker\n",
    "import time"
   ]
  },
  {
   "cell_type": "code",
   "execution_count": 2,
   "metadata": {},
   "outputs": [],
   "source": [
    "SETTINGS = {\n",
    "    \"tracker type\": \"vega\",\n",
    "    \"ip address\": \"169.254.7.250\",\n",
    "    \"port\": 8765,\n",
    "    \"romfiles\": [\"/Users/yizheng/Desktop/Dartmouth/lab work/ARPAH/Polaris Vega XT/tool_defs/medtronic_chicken_foot_960_556.rom\"]\n",
    "}"
   ]
  },
  {
   "cell_type": "code",
   "execution_count": null,
   "metadata": {},
   "outputs": [],
   "source": [
    "# Initialize the tracker\n",
    "tracker = NDITracker(SETTINGS)"
   ]
  },
  {
   "cell_type": "code",
   "execution_count": null,
   "metadata": {},
   "outputs": [],
   "source": [
    "tracker.start_tracking()\n",
    "old_time = 0\n",
    "count = 0\n",
    "try:\n",
    "    while True:\n",
    "        count = count + 1\n",
    "\n",
    "        # Get tool tracking data\n",
    "        tracking_data = tracker.get_frame()\n",
    "\n",
    "        # unpacking tracking_data\n",
    "        time = tracking_data[1][0]\n",
    "\n",
    "        # get the time interval between the current and previous frame\n",
    "        interval = time - old_time\n",
    "\n",
    "        # calculate the rate of the tracker\n",
    "        rate = 1 / interval\n",
    "\n",
    "        # update the old time\n",
    "        old_time = time\n",
    "\n",
    "        # error = tracking_data[-1]\n",
    "\n",
    "        # print the rate every 1000 frames\n",
    "        if count % 1000 == 0:\n",
    "            print(rate) \n",
    "            \n",
    "except KeyboardInterrupt:\n",
    "    print(\"Stopping tracking...\")\n",
    "finally:\n",
    "    tracker.stop_tracking() # Stop tracking and clean up"
   ]
  },
  {
   "cell_type": "code",
   "execution_count": null,
   "metadata": {},
   "outputs": [],
   "source": []
  }
 ],
 "metadata": {
  "kernelspec": {
   "display_name": "ndi",
   "language": "python",
   "name": "python3"
  },
  "language_info": {
   "codemirror_mode": {
    "name": "ipython",
    "version": 3
   },
   "file_extension": ".py",
   "mimetype": "text/x-python",
   "name": "python",
   "nbconvert_exporter": "python",
   "pygments_lexer": "ipython3",
   "version": "3.9.21"
  }
 },
 "nbformat": 4,
 "nbformat_minor": 2
}
