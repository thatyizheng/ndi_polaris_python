{
 "cells": [
  {
   "cell_type": "code",
   "execution_count": 1,
   "metadata": {},
   "outputs": [],
   "source": [
    "import vtk\n",
    "import numpy as np\n",
    "import pandas as pd\n",
    "import time\n",
    "import re\n",
    "\n"
   ]
  },
  {
   "cell_type": "code",
   "execution_count": 2,
   "metadata": {},
   "outputs": [],
   "source": [
    "# 读取 STL 文件\n",
    "reader = vtk.vtkSTLReader()\n",
    "reader.SetFileName(\"medtronic_chicken_foot.STL\")\n",
    "reader.Update()\n",
    "\n",
    "model = reader.GetOutput()\n",
    "\n",
    "# 创建 mapper 和 actor\n",
    "mapper = vtk.vtkPolyDataMapper()\n",
    "mapper.SetInputData(model)\n",
    "\n",
    "actor = vtk.vtkActor()\n",
    "actor.SetMapper(mapper)\n",
    "\n",
    "# 创建 render window, renderer 和 interactor\n",
    "renderer = vtk.vtkRenderer()\n",
    "render_window = vtk.vtkRenderWindow()\n",
    "render_window.AddRenderer(renderer)\n",
    "\n",
    "# 设置渲染器大小\n",
    "render_window.SetSize(2000, 1600)\n",
    "\n",
    "# 创建交互器\n",
    "render_window_interactor = vtk.vtkRenderWindowInteractor()\n",
    "render_window_interactor.SetRenderWindow(render_window)\n",
    "\n",
    "# 将 actor 添加到 renderer 中\n",
    "renderer.AddActor(actor)\n",
    "# renderer.SetBackground(0.1, 0.1, 0.1)\n",
    "\n",
    "# 创建坐标轴\n",
    "axes = vtk.vtkAxesActor()\n",
    "axes.SetTotalLength(200, 200, 200)  # 设置坐标轴的长度\n",
    "axes.SetAxisLabels(True)\n",
    "\n",
    "# 设置坐标轴标签的位置\n",
    "axes.GetXAxisCaptionActor2D().GetTextActor().GetPositionCoordinate().SetCoordinateSystemToNormalizedDisplay()\n",
    "axes.GetYAxisCaptionActor2D().GetTextActor().GetPositionCoordinate().SetCoordinateSystemToNormalizedDisplay()\n",
    "axes.GetZAxisCaptionActor2D().GetTextActor().GetPositionCoordinate().SetCoordinateSystemToNormalizedDisplay()\n",
    "\n",
    "# 设置坐标轴标签\n",
    "axes.GetXAxisCaptionActor2D().GetTextActor().GetProperty().SetColor(1, 0, 0)  # X轴为红色\n",
    "axes.GetYAxisCaptionActor2D().GetTextActor().GetProperty().SetColor(0, 1, 0)  # Y轴为绿色\n",
    "axes.GetZAxisCaptionActor2D().GetTextActor().GetProperty().SetColor(0, 0, 1)  # Z轴为蓝色\n",
    "\n",
    "# 将坐标轴添加到 renderer\n",
    "renderer.AddActor(axes)\n",
    "\n",
    "# 设定摄像机视角，固定在 (0, 0, -3000) 位置\n",
    "renderer.GetActiveCamera().SetPosition(0, 0, -3000)  # 摄像机位置\n",
    "renderer.GetActiveCamera().SetFocalPoint(0, 0, 0)  # 摄像机焦点\n",
    "renderer.GetActiveCamera().SetViewUp(-1, 0, 0)  # 设置“上”方向\n",
    "renderer.GetActiveCamera().SetClippingRange(1, 3000)  # 设置裁剪范围\n"
   ]
  },
  {
   "cell_type": "code",
   "execution_count": 3,
   "metadata": {},
   "outputs": [],
   "source": [
    "# 读取 tracking 数据\n",
    "recording = pd.read_csv('recording.csv', header=None)\n",
    "frame_idx = 0  # 记录当前帧索引"
   ]
  },
  {
   "cell_type": "code",
   "execution_count": 4,
   "metadata": {},
   "outputs": [],
   "source": [
    "# 定义定时器回调函数\n",
    "def update_pose(obj, event):\n",
    "    global frame_idx\n",
    "\n",
    "    row = recording.iloc[frame_idx]\n",
    "    tracking = row[3]  # 提取 tracking 数据\n",
    "    numbers = [float(x) if x != \"nan\" else np.nan for x in re.findall(r\"nan|[-+]?\\d*\\.\\d+e[+-]?\\d+|[-+]?\\d*\\.\\d+|\\d+\", tracking)]\n",
    "    tracking_matrix = np.array(numbers).reshape(4, 4)\n",
    "\n",
    "    # VTK 变换\n",
    "    transform = vtk.vtkTransform()\n",
    "    transform.SetMatrix(tracking_matrix.flatten())  # 设置变换矩阵\n",
    "    actor.SetUserTransform(transform)  # 应用变换\n",
    "\n",
    "    render_window.Render()  # 重新渲染\n",
    "    frame_idx += 1  # 更新帧索引"
   ]
  },
  {
   "cell_type": "code",
   "execution_count": 5,
   "metadata": {},
   "outputs": [],
   "source": [
    "def close_window(obj, event):\n",
    "    render_window_interactor.GetRenderWindow().Finalize()  # Properly release resources\n",
    "    render_window_interactor.TerminateApp()  # Exit VTK loop"
   ]
  },
  {
   "cell_type": "code",
   "execution_count": 6,
   "metadata": {},
   "outputs": [
    {
     "name": "stderr",
     "output_type": "stream",
     "text": [
      "2025-02-14 16:19:06.343 python[76320:12992461] +[IMKClient subclass]: chose IMKClient_Modern\n",
      "2025-02-14 16:19:06.343 python[76320:12992461] +[IMKInputSession subclass]: chose IMKInputSession_Modern\n"
     ]
    },
    {
     "ename": "",
     "evalue": "",
     "output_type": "error",
     "traceback": [
      "\u001b[1;31mThe Kernel crashed while executing code in the current cell or a previous cell. \n",
      "\u001b[1;31mPlease review the code in the cell(s) to identify a possible cause of the failure. \n",
      "\u001b[1;31mClick <a href='https://aka.ms/vscodeJupyterKernelCrash'>here</a> for more info. \n",
      "\u001b[1;31mView Jupyter <a href='command:jupyter.viewOutput'>log</a> for further details."
     ]
    }
   ],
   "source": [
    "# 设定定时器，每 10ms 触发一次\n",
    "render_window_interactor.AddObserver(\"TimerEvent\", update_pose)\n",
    "render_window_interactor.CreateRepeatingTimer(1)  # 10ms\n",
    "render_window_interactor.AddObserver(\"KeyPressEvent\", close_window)\n",
    "\n",
    "# 启动交互模式（不会阻塞后续代码）\n",
    "render_window.Render()\n",
    "render_window_interactor.Initialize()\n",
    "render_window_interactor.Start()\n"
   ]
  }
 ],
 "metadata": {
  "kernelspec": {
   "display_name": "ndi",
   "language": "python",
   "name": "python3"
  },
  "language_info": {
   "codemirror_mode": {
    "name": "ipython",
    "version": 3
   },
   "file_extension": ".py",
   "mimetype": "text/x-python",
   "name": "python",
   "nbconvert_exporter": "python",
   "pygments_lexer": "ipython3",
   "version": "3.9.21"
  }
 },
 "nbformat": 4,
 "nbformat_minor": 2
}
