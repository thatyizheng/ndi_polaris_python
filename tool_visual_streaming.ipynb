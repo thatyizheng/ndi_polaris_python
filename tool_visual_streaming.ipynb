{
 "cells": [
  {
   "cell_type": "code",
   "execution_count": 1,
   "metadata": {},
   "outputs": [],
   "source": [
    "import vtk\n",
    "import numpy as np\n",
    "import pandas as pd\n",
    "import time\n",
    "import re\n",
    "import threading\n",
    "from sksurgerynditracker.nditracker import NDITracker"
   ]
  },
  {
   "cell_type": "code",
   "execution_count": 2,
   "metadata": {},
   "outputs": [
    {
     "name": "stdout",
     "output_type": "stream",
     "text": [
      "PING 169.254.7.250 (169.254.7.250): 56 data bytes\n",
      "64 bytes from 169.254.7.250: icmp_seq=0 ttl=64 time=0.756 ms\n",
      "\n",
      "--- 169.254.7.250 ping statistics ---\n",
      "1 packets transmitted, 1 packets received, 0.0% packet loss\n",
      "round-trip min/avg/max/stddev = 0.756/0.756/0.756/0.000 ms\n"
     ]
    }
   ],
   "source": [
    "# Initialize the NDI tracker\n",
    "SETTINGS = {\n",
    "    \"tracker type\": \"vega\",\n",
    "    \"ip address\": \"169.254.7.250\",\n",
    "    \"port\": 8765,\n",
    "    \"romfiles\": [\"/Users/yizheng/Desktop/Dartmouth/lab work/ARPAH/Polaris Vega XT/tool_defs/medtronic_chicken_foot_960_556.rom\"]\n",
    "}\n",
    "tracker = NDITracker(SETTINGS)\n",
    "tracker.start_tracking()"
   ]
  },
  {
   "cell_type": "code",
   "execution_count": 3,
   "metadata": {},
   "outputs": [],
   "source": [
    "# Initialize vtk\n",
    "reader = vtk.vtkSTLReader() # read stl file\n",
    "reader.SetFileName(\"medtronic_chicken_foot.STL\") # set the file name\n",
    "reader.Update() # update the reader\n",
    "\n",
    "mapper = vtk.vtkPolyDataMapper() # create a mapper, a mapper is used to map the data to the graphics primitives\n",
    "mapper.SetInputData(reader.GetOutput()) # set the input to the reader\n",
    "\n",
    "actor = vtk.vtkActor() # create an actor, an actor is used to display the data\n",
    "actor.SetMapper(mapper) # set the mapper to the actor\n",
    "\n",
    "renderer = vtk.vtkRenderer() # create a renderer, a renderer is used to display the data\n",
    "render_window = vtk.vtkRenderWindow() # create a render window, a render window is used to display the data\n",
    "render_window.AddRenderer(renderer) # add the renderer to the render window\n",
    "render_window.SetSize(2000, 1600) # set the size of the render window\n",
    "\n",
    "render_window_interactor = vtk.vtkRenderWindowInteractor() # create a render window interactor, a render window interactor is used to interact with the data\n",
    "render_window_interactor.SetRenderWindow(render_window) # set the render window to the render window interactor\n",
    "\n",
    "renderer.AddActor(actor) # add the actor to the renderer\n",
    "renderer.SetBackground(0.1, 0.2, 0.4) # set the background of the renderer\n",
    "\n",
    "# 创建坐标轴\n",
    "axes = vtk.vtkAxesActor()\n",
    "axes.SetTotalLength(200, 200, 200)  # 设置坐标轴的长度\n",
    "axes.SetAxisLabels(True)\n",
    "\n",
    "# 设置坐标轴标签的位置\n",
    "axes.GetXAxisCaptionActor2D().GetTextActor().GetPositionCoordinate().SetCoordinateSystemToNormalizedDisplay()\n",
    "axes.GetYAxisCaptionActor2D().GetTextActor().GetPositionCoordinate().SetCoordinateSystemToNormalizedDisplay()\n",
    "axes.GetZAxisCaptionActor2D().GetTextActor().GetPositionCoordinate().SetCoordinateSystemToNormalizedDisplay()\n",
    "\n",
    "# 设置坐标轴标签\n",
    "axes.GetXAxisCaptionActor2D().GetTextActor().GetProperty().SetColor(1, 0, 0)  # X轴为红色\n",
    "axes.GetYAxisCaptionActor2D().GetTextActor().GetProperty().SetColor(0, 1, 0)  # Y轴为绿色\n",
    "axes.GetZAxisCaptionActor2D().GetTextActor().GetProperty().SetColor(0, 0, 1)  # Z轴为蓝色\n",
    "\n",
    "# 将坐标轴添加到 renderer\n",
    "renderer.AddActor(axes)\n",
    "\n",
    "# 设定摄像机视角，固定在 (0, 0, -3000) 位置\n",
    "renderer.GetActiveCamera().SetPosition(-1000, 1000, -5000)  # 摄像机位置\n",
    "renderer.GetActiveCamera().SetFocalPoint(0, 0, 0)  # 摄像机焦点\n",
    "renderer.GetActiveCamera().SetViewUp(-1, 0, 0)  # 设置“上”方向\n",
    "renderer.GetActiveCamera().SetClippingRange(1, 3000)  # 设置裁剪范围"
   ]
  },
  {
   "cell_type": "code",
   "execution_count": 4,
   "metadata": {},
   "outputs": [],
   "source": [
    "def get_tracking_data(tracker):\n",
    "    \"\"\"Fetch latest tracking data\"\"\"\n",
    "    port_handles, timestamps, framenumbers, transformation, quality = tracker.get_frame()\n",
    "    transformation = np.array(transformation[0])\n",
    "    return timestamps, transformation, quality"
   ]
  },
  {
   "cell_type": "code",
   "execution_count": null,
   "metadata": {},
   "outputs": [],
   "source": []
  },
  {
   "cell_type": "code",
   "execution_count": 5,
   "metadata": {},
   "outputs": [],
   "source": [
    "# Polaris Data Streaming Thread\n",
    "data_ready = threading.Event()\n",
    "\n",
    "def polaris_thread():\n",
    "    global polaris_matrix\n",
    "    while True:\n",
    "        _, new_matrix, _ = get_tracking_data(tracker)\n",
    "        polaris_matrix = new_matrix\n",
    "        data_ready.set()\n",
    "        time.sleep(1/400)"
   ]
  },
  {
   "cell_type": "code",
   "execution_count": 6,
   "metadata": {},
   "outputs": [
    {
     "ename": "",
     "evalue": "",
     "output_type": "error",
     "traceback": [
      "\u001b[1;31mThe Kernel crashed while executing code in the current cell or a previous cell. \n",
      "\u001b[1;31mPlease review the code in the cell(s) to identify a possible cause of the failure. \n",
      "\u001b[1;31mClick <a href='https://aka.ms/vscodeJupyterKernelCrash'>here</a> for more info. \n",
      "\u001b[1;31mView Jupyter <a href='command:jupyter.viewOutput'>log</a> for further details."
     ]
    }
   ],
   "source": [
    "# VTK Update Thread\n",
    "def update_pose(obj, event):\n",
    "    global polaris_matrix\n",
    "\n",
    "    if data_ready.is_set():\n",
    "        transform = vtk.vtkTransform()\n",
    "        transform.SetMatrix(polaris_matrix.flatten()) \n",
    "        actor.SetUserTransform(transform)\n",
    "        render_window.Render()\n",
    "        data_ready.clear()"
   ]
  },
  {
   "cell_type": "code",
   "execution_count": null,
   "metadata": {},
   "outputs": [
    {
     "name": "stderr",
     "output_type": "stream",
     "text": [
      "2025-02-19 17:26:10.722 python[6644:132633] +[IMKClient subclass]: chose IMKClient_Modern\n",
      "2025-02-19 17:26:10.723 python[6644:132633] +[IMKInputSession subclass]: chose IMKInputSession_Modern\n"
     ]
    }
   ],
   "source": [
    "_, transformation, _ = get_tracking_data(tracker)\n",
    "\n",
    "threading.Thread(target=polaris_thread, daemon=True).start()\n",
    "\n",
    "render_window_interactor.AddObserver(\"TimerEvent\", update_pose)\n",
    "render_window_interactor.CreateRepeatingTimer(1)  # VTK 线程不断监听\n",
    "\n",
    "render_window.Render()\n",
    "render_window_interactor.Initialize()\n",
    "render_window_interactor.Start()"
   ]
  },
  {
   "cell_type": "code",
   "execution_count": null,
   "metadata": {},
   "outputs": [],
   "source": [
    "transformation"
   ]
  },
  {
   "cell_type": "code",
   "execution_count": null,
   "metadata": {},
   "outputs": [],
   "source": []
  }
 ],
 "metadata": {
  "kernelspec": {
   "display_name": "ndi",
   "language": "python",
   "name": "python3"
  },
  "language_info": {
   "codemirror_mode": {
    "name": "ipython",
    "version": 3
   },
   "file_extension": ".py",
   "mimetype": "text/x-python",
   "name": "python",
   "nbconvert_exporter": "python",
   "pygments_lexer": "ipython3",
   "version": "3.9.21"
  }
 },
 "nbformat": 4,
 "nbformat_minor": 2
}
