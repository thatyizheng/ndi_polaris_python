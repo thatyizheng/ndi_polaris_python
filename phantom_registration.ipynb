{
 "cells": [
  {
   "cell_type": "code",
   "execution_count": 1,
   "metadata": {},
   "outputs": [],
   "source": [
    "import pandas as pd\n",
    "import os\n",
    "from sksurgerynditracker.nditracker import NDITracker\n",
    "import numpy as np"
   ]
  },
  {
   "cell_type": "code",
   "execution_count": 2,
   "metadata": {},
   "outputs": [
    {
     "name": "stdout",
     "output_type": "stream",
     "text": [
      "PING 169.254.7.250 (169.254.7.250): 56 data bytes\n",
      "64 bytes from 169.254.7.250: icmp_seq=0 ttl=64 time=0.541 ms\n",
      "\n",
      "--- 169.254.7.250 ping statistics ---\n",
      "1 packets transmitted, 1 packets received, 0.0% packet loss\n",
      "round-trip min/avg/max/stddev = 0.541/0.541/0.541/nan ms\n"
     ]
    }
   ],
   "source": [
    "TOOL_TIP_OFFSET = np.array([-304.5728,-0.3053,-0.1412, 1]) # the offset value is from Mike github repo\n",
    "# Initialize the NDI tracker\n",
    "SETTINGS = {\n",
    "    \"tracker type\": \"vega\",\n",
    "    \"ip address\": \"169.254.7.250\",\n",
    "    \"port\": 8765,\n",
    "    \"romfiles\": [\"/Users/yizheng/Desktop/Dartmouth/lab work/ARPAH/Polaris Vega XT/tool_defs/medtronic_chicken_foot_960_556.rom\"]\n",
    "}\n",
    "tracker = NDITracker(SETTINGS)\n",
    "tracker.start_tracking()"
   ]
  },
  {
   "cell_type": "code",
   "execution_count": 3,
   "metadata": {},
   "outputs": [],
   "source": [
    "def get_tooltip_data(tool_tip_offset):\n",
    "    port_handles, timestamps, framenumbers, tracking, quality = tracker.get_frame()\n",
    "    tool_tip = np.dot(tracking[0], tool_tip_offset)\n",
    "    x_pos = tool_tip[0]\n",
    "    y_pos = tool_tip[1]\n",
    "    z_pos = tool_tip[2]\n",
    "    return x_pos, y_pos, z_pos"
   ]
  },
  {
   "cell_type": "code",
   "execution_count": 22,
   "metadata": {},
   "outputs": [],
   "source": [
    "fcsv_file = 'CT.fcsv'\n",
    "phantom_fiducials = pd.read_csv(os.getcwd() + '/' + 'slicer_files' + '/' + fcsv_file, comment='#', header=None)"
   ]
  },
  {
   "cell_type": "code",
   "execution_count": 7,
   "metadata": {},
   "outputs": [
    {
     "name": "stdout",
     "output_type": "stream",
     "text": [
      "Collect again\n",
      "Collect again\n",
      "Collect again\n",
      "Collected Point: 1\n",
      "Position: (np.float64(40.51320564842001), np.float64(-253.87461016031196), np.float64(-1379.9160380047042))\n",
      "Collected Point: 2\n",
      "Position: (np.float64(-15.793435728028072), np.float64(-49.100365838854), np.float64(-1414.316930792986))\n",
      "Collected Point: 3\n",
      "Position: (np.float64(-59.60176576511191), np.float64(-159.266586397558), np.float64(-1465.129753680758))\n",
      "Collected Point: 4\n",
      "Position: (np.float64(-55.64992615989195), np.float64(-174.128708296206), np.float64(-1574.3612435942562))\n",
      "Collected Point: 5\n",
      "Position: (np.float64(0.5209652173360837), np.float64(-85.659662666812), np.float64(-1636.709391531904))\n",
      "Collected Point: 6\n",
      "Position: (np.float64(96.21857272648998), np.float64(-310.633344157286), np.float64(-1595.5782589503021))\n"
     ]
    }
   ],
   "source": [
    "real_pos = []\n",
    "i = 0\n",
    "while i < len(phantom_fiducials):\n",
    "    user_input = input(\"Press Enter to Collect Points：\")\n",
    "        \n",
    "    if user_input.lower() == 'Exit':\n",
    "        break\n",
    "\n",
    "    if user_input == '':  # 如果按回车键\n",
    "        x, y, z = get_tooltip_data(TOOL_TIP_OFFSET)  # 获取当前Polaris的位置\n",
    "        if np.isnan(x) or np.isnan(y) or np.isnan(z):\n",
    "            print(\"Collect again\")\n",
    "        else:\n",
    "            real_pos.append([x, y, z])  # 保存采集的数据       \n",
    "            i = i + 1\n",
    "            print(f\"Collected Point: {i}\")\n",
    "            print(f\"Position: {x, y, z}\")\n",
    "            \n",
    "    "
   ]
  },
  {
   "cell_type": "code",
   "execution_count": 43,
   "metadata": {},
   "outputs": [],
   "source": [
    "from scipy.spatial.transform import Rotation\n",
    "def compute_rigid_transform(P_phantom, P_polaris):\n",
    "    \"\"\"\n",
    "    计算从 phantom 坐标系到 polaris 坐标系的刚体变换 (R, T)\n",
    "    \n",
    "    :param P_phantom: ndarray (N,3)，phantom 坐标系下 fiducials 的 3D 坐标\n",
    "    :param P_polaris: ndarray (N,3)，Polaris 坐标系下 fiducials 的 3D 坐标\n",
    "    :return: R (3x3 rotation matrix), T (3x1 translation vector)\n",
    "    \"\"\"\n",
    "    # 计算两个点集的质心\n",
    "    centroid_phantom = np.mean(P_phantom, axis=0)\n",
    "    centroid_polaris = np.mean(P_polaris, axis=0)\n",
    "\n",
    "    # 去中心化（中心化点集）\n",
    "    P_phantom_centered = P_phantom - centroid_phantom\n",
    "    P_polaris_centered = P_polaris - centroid_polaris\n",
    "\n",
    "    # 计算协方差矩阵 H\n",
    "    H = P_phantom_centered.T @ P_polaris_centered\n",
    "\n",
    "    # 进行 SVD 分解\n",
    "    U, _, Vt = np.linalg.svd(H)\n",
    "    \n",
    "    # 计算旋转矩阵 R\n",
    "    R = Vt.T @ U.T\n",
    "\n",
    "    # 处理可能的反射问题（保证 R 是正交矩阵，det(R) = 1）\n",
    "    if np.linalg.det(R) < 0:\n",
    "        Vt[-1, :] *= -1\n",
    "        R = Vt.T @ U.T\n",
    "\n",
    "    # 计算平移向量 T\n",
    "    T = centroid_polaris - R @ centroid_phantom\n",
    "\n",
    "    return R, T"
   ]
  },
  {
   "cell_type": "code",
   "execution_count": 45,
   "metadata": {},
   "outputs": [
    {
     "name": "stdout",
     "output_type": "stream",
     "text": [
      "[[-108.610672    -93.25263214  128.33157349]\n",
      " [  98.98032379 -147.69650269  129.06384277]\n",
      " [  -0.64749622 -195.0091095   193.43154907]\n",
      " [   1.81817102 -195.08876038  301.2645874 ]\n",
      " [  98.23664093 -144.80683899  351.45755005]\n",
      " [-134.05921936  -50.59602356  351.95401001]]\n"
     ]
    }
   ],
   "source": [
    "P_phantom = []\n",
    "phantom_fiducials = np.array(phantom_fiducials)\n",
    "for i in range(len(phantom_fiducials)):\n",
    "    P_phantom.append(phantom_fiducials[i][1:4])\n",
    "P_phantom = np.array(P_phantom, dtype=np.float64)\n",
    "print(P_phantom, )"
   ]
  },
  {
   "cell_type": "code",
   "execution_count": 46,
   "metadata": {},
   "outputs": [
    {
     "name": "stdout",
     "output_type": "stream",
     "text": [
      "[[ 4.05132056e+01 -2.53874610e+02 -1.37991604e+03]\n",
      " [-1.57934357e+01 -4.91003658e+01 -1.41431693e+03]\n",
      " [-5.96017658e+01 -1.59266586e+02 -1.46512975e+03]\n",
      " [-5.56499262e+01 -1.74128708e+02 -1.57436124e+03]\n",
      " [ 5.20965217e-01 -8.56596627e+01 -1.63670939e+03]\n",
      " [ 9.62185727e+01 -3.10633344e+02 -1.59557826e+03]]\n"
     ]
    }
   ],
   "source": [
    "P_polaris = np.array(real_pos, dtype=np.float64)\n",
    "print(P_polaris)"
   ]
  },
  {
   "cell_type": "code",
   "execution_count": 47,
   "metadata": {},
   "outputs": [],
   "source": [
    "R, T = compute_rigid_transform(P_phantom, P_polaris)\n"
   ]
  },
  {
   "cell_type": "code",
   "execution_count": 50,
   "metadata": {},
   "outputs": [],
   "source": [
    "def create_transformation_matrix(R, T):\n",
    "    \"\"\"\n",
    "    将旋转矩阵 R (3x3) 和平移向量 T (3x1) 组合成 4x4 变换矩阵\n",
    "    \"\"\"\n",
    "    transformation_matrix = np.eye(4)  # 创建一个 4x4 单位矩阵\n",
    "    transformation_matrix[:3, :3] = R  # 设置旋转部分\n",
    "    transformation_matrix[:3, 3] = T.flatten()  # 设置平移部分\n",
    "    return transformation_matrix"
   ]
  },
  {
   "cell_type": "code",
   "execution_count": 51,
   "metadata": {},
   "outputs": [
    {
     "name": "stdout",
     "output_type": "stream",
     "text": [
      "[[-1.30866820e-02  9.98415042e-01  5.47370336e-02  1.25183027e+02]\n",
      " [ 9.88019474e-01  2.13301560e-02 -1.52848106e-01 -1.24802059e+02]\n",
      " [-1.53773398e-01  5.20809806e-02 -9.86732645e-01 -1.26559772e+03]\n",
      " [ 0.00000000e+00  0.00000000e+00  0.00000000e+00  1.00000000e+00]]\n"
     ]
    }
   ],
   "source": [
    "transformation_matrix = create_transformation_matrix(R, T)\n",
    "print(transformation_matrix)"
   ]
  }
 ],
 "metadata": {
  "kernelspec": {
   "display_name": "ndi",
   "language": "python",
   "name": "python3"
  },
  "language_info": {
   "codemirror_mode": {
    "name": "ipython",
    "version": 3
   },
   "file_extension": ".py",
   "mimetype": "text/x-python",
   "name": "python",
   "nbconvert_exporter": "python",
   "pygments_lexer": "ipython3",
   "version": "3.9.21"
  }
 },
 "nbformat": 4,
 "nbformat_minor": 2
}
