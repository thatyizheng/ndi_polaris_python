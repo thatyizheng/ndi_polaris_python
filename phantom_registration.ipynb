{
 "cells": [
  {
   "cell_type": "code",
   "execution_count": 1,
   "metadata": {},
   "outputs": [],
   "source": [
    "import pandas as pd\n",
    "import os\n",
    "from sksurgerynditracker.nditracker import NDITracker\n",
    "import numpy as np"
   ]
  },
  {
   "cell_type": "code",
   "execution_count": null,
   "metadata": {},
   "outputs": [],
   "source": [
    "\"\"\"\n",
    "    Define the tool tip offset\n",
    "    Using Medtronic Chiken Foot for Phantom Registration\n",
    "    the tool tip offset value of Medtronic Chicken Foot is from Mike github repo\n",
    "    Alternatively, the tool tip offset can be calculated by PIVOTING using NDI ToolBox Utilities\n",
    "\"\"\"\n",
    "TOOL_TIP_OFFSET = np.array([-304.5728,-0.3053,-0.1412, 1]) "
   ]
  },
  {
   "cell_type": "code",
   "execution_count": 2,
   "metadata": {},
   "outputs": [],
   "source": [
    "\"\"\"\n",
    "    Initialize the NDI tracker\n",
    "    MAKE SURE you have the Chicken Foot .rom file and its path\n",
    "\"\"\"\n",
    "SETTINGS = {\n",
    "    \"tracker type\": \"vega\",\n",
    "    \"ip address\": \"169.254.7.250\",\n",
    "    \"port\": 8765,\n",
    "\n",
    "    # Windows Path\n",
    "    \"romfiles\": [\"C:\\\\Users\\\\f007wsq\\\\Desktop\\\\tools_and_models\\\\tool_defs\\\\medtronic_chicken_foot_960_556.rom\"]\n",
    "}\n",
    "tracker = NDITracker(SETTINGS)\n",
    "tracker.start_tracking()"
   ]
  },
  {
   "cell_type": "code",
   "execution_count": 3,
   "metadata": {},
   "outputs": [],
   "source": [
    "def get_tooltip_data(tool_tip_offset):\n",
    "    port_handles, timestamps, framenumbers, tracking, quality = tracker.get_frame()\n",
    "    tool_tip = np.dot(tracking[0], tool_tip_offset)\n",
    "    x_pos = tool_tip[0]\n",
    "    y_pos = tool_tip[1]\n",
    "    z_pos = tool_tip[2]\n",
    "    return x_pos, y_pos, z_pos"
   ]
  },
  {
   "cell_type": "code",
   "execution_count": 4,
   "metadata": {},
   "outputs": [],
   "source": [
    "\"\"\"\n",
    "    Load the Markers Locations on Phantom\n",
    "    The locations here are in CT's coordinate system\n",
    "    The locations can be obtained by loading the CT's .stl model into SLICER or directly getting from .stl model in Solidworks or similar software\n",
    "\"\"\"\n",
    "markers_fcsv_file = 'CT.fcsv'\n",
    "\n",
    "# Windows Path\n",
    "markers_CT = pd.read_csv(\"C:\\\\Users\\\\f007wsq\\\\Desktop\\\\tools_and_models\\\\slicer_files\" + \"\\\\\"  + markers_fcsv_file, comment='#', header=None)"
   ]
  },
  {
   "cell_type": "code",
   "execution_count": 5,
   "metadata": {},
   "outputs": [
    {
     "name": "stdout",
     "output_type": "stream",
     "text": [
      "Collected Point: 1\n",
      "Position: (np.float64(40.04906265535004), np.float64(-56.070647664221966), np.float64(-1445.8594203154883))\n",
      "Collected Point: 2\n",
      "Position: (np.float64(-19.445325992150003), np.float64(150.22359627637798), np.float64(-1451.607421728674))\n",
      "Collected Point: 3\n",
      "Position: (np.float64(-61.776361144728014), np.float64(47.940234749587994), np.float64(-1519.7714120940961))\n",
      "Collected Point: 4\n",
      "Position: (np.float64(-56.58441401261405), np.float64(49.795803678458), np.float64(-1626.251505732848))\n",
      "Collected Point: 5\n",
      "Position: (np.float64(1.1175919406480261), np.float64(143.290727190202), np.float64(-1674.176156837596))\n",
      "Collect again\n",
      "Collect again\n",
      "Collect again\n",
      "Collected Point: 6\n",
      "Position: (np.float64(95.83956213392608), np.float64(-82.85855822543802), np.float64(-1662.8455113762502))\n"
     ]
    }
   ],
   "source": [
    "\"\"\"\"\n",
    "    markers_PO saves the Marker Locations in Polaris coord system\n",
    "    Use the chicken foot tool\n",
    "    Point the tool tip at each marker and hit ENTER to collect the positions\n",
    "\"\"\"\n",
    "markers_PO = []\n",
    "i = 0\n",
    "while i < len(markers_CT):\n",
    "    user_input = input(\"Press Enter to Collect Points：\")\n",
    "        \n",
    "    if user_input.lower() == 'Exit':\n",
    "        break\n",
    "\n",
    "    if user_input == '':  # 如果按回车键\n",
    "        x, y, z = get_tooltip_data(TOOL_TIP_OFFSET)  # 获取当前Polaris的位置\n",
    "        if np.isnan(x) or np.isnan(y) or np.isnan(z):\n",
    "            print(\"Collect again\")\n",
    "        else:\n",
    "            markers_PO.append([x, y, z])  # 保存采集的数据       \n",
    "            i = i + 1\n",
    "            print(f\"Collected Point: {i}\")\n",
    "            print(f\"Position: {x, y, z}\")\n",
    "            "
   ]
  },
  {
   "cell_type": "code",
   "execution_count": 6,
   "metadata": {},
   "outputs": [],
   "source": [
    "from scipy.spatial.transform import Rotation\n",
    "def compute_rigid_transform(P_CT, P_PO):\n",
    "    \"\"\"\n",
    "        Calculate the rigid transformation from CT or Phantom coord system to Polaris coord system, in other word,\n",
    "        Express {CT} in {PO}, PO: short for Polaris,\n",
    "        P_CT: ndarray (N,3), the markers 3D location in {CT}\n",
    "        P_PO: ndarray (N,3), the markers 3D location in {PO}\n",
    "\n",
    "        :return: R (3x3 rotation matrix), T (3x1 translation vector)\n",
    "    \"\"\"\n",
    "    # 计算两个点集的质心\n",
    "    centroid_CT = np.mean(P_CT, axis=0)\n",
    "    centroid_PO = np.mean(P_PO, axis=0)\n",
    "\n",
    "    # 去中心化（中心化点集）\n",
    "    P_CT_centered = P_CT - centroid_CT\n",
    "    P_PO_centered = P_PO - centroid_PO\n",
    "\n",
    "    # 计算协方差矩阵 H\n",
    "    H = P_CT_centered.T @ P_PO_centered\n",
    "\n",
    "    # 进行 SVD 分解\n",
    "    U, _, Vt = np.linalg.svd(H)\n",
    "    \n",
    "    # 计算旋转矩阵 R\n",
    "    R = Vt.T @ U.T\n",
    "\n",
    "    # 处理可能的反射问题（保证 R 是正交矩阵，det(R) = 1）\n",
    "    if np.linalg.det(R) < 0:\n",
    "        Vt[-1, :] *= -1\n",
    "        R = Vt.T @ U.T\n",
    "\n",
    "    # 计算平移向量 T\n",
    "    T = centroid_PO - R @ centroid_CT\n",
    "\n",
    "    return R, T"
   ]
  },
  {
   "cell_type": "code",
   "execution_count": 7,
   "metadata": {},
   "outputs": [
    {
     "name": "stdout",
     "output_type": "stream",
     "text": [
      "[[-108.610672    -93.25263214  128.33157349]\n",
      " [  98.98032379 -147.69650269  129.06384277]\n",
      " [  -0.64749622 -195.0091095   193.43154907]\n",
      " [   1.81817102 -195.08876038  301.2645874 ]\n",
      " [  98.23664093 -144.80683899  351.45755005]\n",
      " [-134.05921936  -50.59602356  351.95401001]]\n"
     ]
    }
   ],
   "source": [
    "P_CT = []\n",
    "markers_CT = np.array(markers_CT)\n",
    "for i in range(len(markers_CT)):\n",
    "    P_CT.append(markers_CT[i][1:4])\n",
    "P_CT = np.array(P_CT, dtype=np.float64)\n",
    "print(P_CT)"
   ]
  },
  {
   "cell_type": "code",
   "execution_count": 8,
   "metadata": {},
   "outputs": [
    {
     "name": "stdout",
     "output_type": "stream",
     "text": [
      "[[ 4.00490627e+01 -5.60706477e+01 -1.44585942e+03]\n",
      " [-1.94453260e+01  1.50223596e+02 -1.45160742e+03]\n",
      " [-6.17763611e+01  4.79402347e+01 -1.51977141e+03]\n",
      " [-5.65844140e+01  4.97958037e+01 -1.62625151e+03]\n",
      " [ 1.11759194e+00  1.43290727e+02 -1.67417616e+03]\n",
      " [ 9.58395621e+01 -8.28585582e+01 -1.66284551e+03]]\n"
     ]
    }
   ],
   "source": [
    "P_PO = np.array(markers_PO, dtype=np.float64)\n",
    "print(P_PO)"
   ]
  },
  {
   "cell_type": "code",
   "execution_count": 9,
   "metadata": {},
   "outputs": [],
   "source": [
    "\"\"\"\n",
    "    Calculate the Rotation and Translation\n",
    "\"\"\"\n",
    "R, T = compute_rigid_transform(P_CT, P_PO)"
   ]
  },
  {
   "cell_type": "code",
   "execution_count": 10,
   "metadata": {},
   "outputs": [],
   "source": [
    "def create_transformation_matrix(R, T):\n",
    "    \"\"\"\n",
    "        Combine the Rotation and Translation into 4 x 4 Transformation Matrix\n",
    "    \"\"\"\n",
    "    transformation_matrix = np.eye(4)  # 创建一个 4x4 单位矩阵\n",
    "    transformation_matrix[:3, :3] = R  # 设置旋转部分\n",
    "    transformation_matrix[:3, 3] = T.flatten()  # 设置平移部分\n",
    "    return transformation_matrix"
   ]
  },
  {
   "cell_type": "code",
   "execution_count": 11,
   "metadata": {},
   "outputs": [
    {
     "name": "stdout",
     "output_type": "stream",
     "text": [
      "[[-1.78752390e-02  9.97490742e-01  6.85032455e-02  1.20512994e+02]\n",
      " [ 9.99681492e-01  1.90512108e-02 -1.65519287e-02  5.60709263e+01]\n",
      " [-1.78154654e-02  6.81855570e-02 -9.97513578e-01 -1.31217738e+03]\n",
      " [ 0.00000000e+00  0.00000000e+00  0.00000000e+00  1.00000000e+00]]\n"
     ]
    }
   ],
   "source": [
    "\"\"\"\n",
    "    Here we have the transformation,\n",
    "    Express {CT} in {PO}\n",
    "    By applying the Transformation, we can have the CT model/Phantom in Polaris Coordinate System\n",
    "\"\"\"\n",
    "transformation_matrix = create_transformation_matrix(R, T)\n",
    "print(transformation_matrix)"
   ]
  }
 ],
 "metadata": {
  "kernelspec": {
   "display_name": "ndi",
   "language": "python",
   "name": "python3"
  },
  "language_info": {
   "codemirror_mode": {
    "name": "ipython",
    "version": 3
   },
   "file_extension": ".py",
   "mimetype": "text/x-python",
   "name": "python",
   "nbconvert_exporter": "python",
   "pygments_lexer": "ipython3",
   "version": "3.9.21"
  }
 },
 "nbformat": 4,
 "nbformat_minor": 2
}
