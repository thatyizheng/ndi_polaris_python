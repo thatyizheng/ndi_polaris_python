{
 "cells": [
  {
   "cell_type": "markdown",
   "metadata": {},
   "source": [
    "Visualizing the Chicken Foot (.stl) in Python\n",
    "The poses are streamed from the NDI tracker and visualized in real-time."
   ]
  },
  {
   "cell_type": "code",
   "execution_count": 1,
   "metadata": {},
   "outputs": [],
   "source": [
    "import numpy as np\n",
    "from sksurgerynditracker.nditracker import NDITracker\n",
    "import pyvista as pv\n",
    "from mpl_toolkits.mplot3d import Axes3D\n",
    "import matplotlib.pyplot as plt\n",
    "import PyQt5\n",
    "%matplotlib qt\n",
    "\n",
    "pv.OFF_SCREEN = True"
   ]
  },
  {
   "cell_type": "code",
   "execution_count": null,
   "metadata": {},
   "outputs": [],
   "source": [
    "TOOL_TIP_OFFSET = np.array([-304.5728,-0.3053,-0.1412, 1]) # the offset value is from Mike github repo"
   ]
  },
  {
   "cell_type": "code",
   "execution_count": null,
   "metadata": {},
   "outputs": [],
   "source": [
    "# Initialize the NDI tracker\n",
    "SETTINGS = {\n",
    "    \"tracker type\": \"vega\",\n",
    "    \"ip address\": \"169.254.7.250\",\n",
    "    \"port\": 8765,\n",
    "    \"romfiles\": [\"/Users/yizheng/Desktop/Dartmouth/lab work/ARPAH/Polaris Vega XT/tool_defs/medtronic_chicken_foot_960_556.rom\"]\n",
    "}\n",
    "tracker = NDITracker(SETTINGS)\n",
    "tracker.start_tracking()"
   ]
  },
  {
   "cell_type": "code",
   "execution_count": 3,
   "metadata": {},
   "outputs": [],
   "source": [
    "def get_origin_data():\n",
    "    \"\"\"Fetch latest tracking data\"\"\"\n",
    "    port_handles, timestamps, framenumbers, tracking, quality = tracker.get_frame()\n",
    "    x_pos = tracking[0][0][3]\n",
    "    y_pos = tracking[0][1][3]\n",
    "    z_pos = tracking[0][2][3]\n",
    "    return x_pos, y_pos, z_pos"
   ]
  },
  {
   "cell_type": "code",
   "execution_count": 4,
   "metadata": {},
   "outputs": [],
   "source": [
    "def get_tooltip_data(tool_tip_offset):\n",
    "    port_handles, timestamps, framenumbers, tracking, quality = tracker.get_frame()\n",
    "    tool_tip = np.dot(tracking[0], tool_tip_offset)\n",
    "    x_pos = tool_tip[0]\n",
    "    y_pos = tool_tip[1]\n",
    "    z_pos = tool_tip[2]\n",
    "    return x_pos, y_pos, z_pos"
   ]
  },
  {
   "cell_type": "code",
   "execution_count": 5,
   "metadata": {},
   "outputs": [],
   "source": [
    "fig = plt.figure()\n",
    "plt.ion()\n",
    "ax = fig.add_subplot(111, projection='3d')"
   ]
  },
  {
   "cell_type": "code",
   "execution_count": null,
   "metadata": {},
   "outputs": [],
   "source": [
    "while True:\n",
    "    # x, y, z = get_origin_data()\n",
    "    x, y, z = get_tooltip_data()\n",
    "    print(x, y, z)\n",
    "    ax.clear()\n",
    "\n",
    "    ax.set_xlim([-1000, 1000])\n",
    "    ax.set_ylim([-1000, 1000])\n",
    "    ax.set_zlim([-2000, -1000])\n",
    "\n",
    "    ax.set_xlabel(\"X Axis\")\n",
    "    ax.set_ylabel(\"Y Axis\")\n",
    "    ax.set_zlabel(\"Z Axis\")\n",
    "\n",
    "    # Update point\n",
    "    ax.scatter3D(x, y, z, color='r')  # Scatter plot for single point\n",
    "    \n",
    "    plt.draw()\n",
    "    plt.pause(0.1)\n",
    "\n",
    "\n"
   ]
  }
 ],
 "metadata": {
  "kernelspec": {
   "display_name": "ndi",
   "language": "python",
   "name": "python3"
  },
  "language_info": {
   "codemirror_mode": {
    "name": "ipython",
    "version": 3
   },
   "file_extension": ".py",
   "mimetype": "text/x-python",
   "name": "python",
   "nbconvert_exporter": "python",
   "pygments_lexer": "ipython3",
   "version": "3.9.21"
  }
 },
 "nbformat": 4,
 "nbformat_minor": 2
}
