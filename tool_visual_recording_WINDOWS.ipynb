{
 "cells": [
  {
   "cell_type": "code",
   "execution_count": 1,
   "metadata": {},
   "outputs": [],
   "source": [
    "import vtk\n",
    "import numpy as np\n",
    "import pandas as pd\n",
    "import time\n",
    "import queue\n",
    "import threading\n",
    "import re\n",
    "from PyQt5.QtWidgets import QApplication\n",
    "from PyQt5.QtCore import QTimer\n",
    "import sys"
   ]
  },
  {
   "cell_type": "code",
   "execution_count": 2,
   "metadata": {},
   "outputs": [],
   "source": [
    "# Initialize vtk\n",
    "tool_reader = vtk.vtkSTLReader() # read stl file\n",
    "tool_reader.SetFileName(\"C:\\\\Users\\\\f007wsq\\\\Desktop\\\\tools_and_models\\\\tool_stl_models\\\\medtronic_chicken_foot.STL\") # set the file name\n",
    "tool_reader.Update() # update the reader\n",
    "\n",
    "tool_mapper = vtk.vtkPolyDataMapper() # create a mapper, a mapper is used to map the data to the graphics primitives\n",
    "tool_mapper.SetInputData(tool_reader.GetOutput()) # set the input to the reader\n",
    "\n",
    "tool_actor = vtk.vtkActor() # create an actor, an actor is used to display the data\n",
    "tool_actor.SetMapper(tool_mapper) # set the mapper to the actor\n",
    "\n",
    "renderer = vtk.vtkRenderer() # create a renderer, a renderer is used to display the data\n",
    "render_window = vtk.vtkRenderWindow() # create a render window, a render window is used to display the data\n",
    "render_window.AddRenderer(renderer) # add the renderer to the render window\n",
    "render_window.SetSize(2000, 1600) # set the size of the render window\n",
    "\n",
    "render_window_interactor = vtk.vtkRenderWindowInteractor() # create a render window interactor, a render window interactor is used to interact with the data\n",
    "render_window_interactor.SetRenderWindow(render_window) # set the render window to the render window interactor\n",
    "\n",
    "renderer.AddActor(tool_actor) # add the actor to the renderer\n",
    "renderer.SetBackground(1, 1, 1) # set the background of the renderer"
   ]
  },
  {
   "cell_type": "code",
   "execution_count": 3,
   "metadata": {},
   "outputs": [],
   "source": [
    "# Creat Coordinate System\n",
    "axes = vtk.vtkAxesActor()\n",
    "axes.SetTotalLength(200, 200, 200)  # 设置坐标轴的长度\n",
    "axes.SetAxisLabels(True)\n",
    "\n",
    "# Setting Axis Labels\n",
    "axes.GetXAxisCaptionActor2D().GetTextActor().GetPositionCoordinate().SetCoordinateSystemToNormalizedDisplay()\n",
    "axes.GetYAxisCaptionActor2D().GetTextActor().GetPositionCoordinate().SetCoordinateSystemToNormalizedDisplay()\n",
    "axes.GetZAxisCaptionActor2D().GetTextActor().GetPositionCoordinate().SetCoordinateSystemToNormalizedDisplay()\n",
    "\n",
    "# Setting Axix Colors\n",
    "axes.GetXAxisCaptionActor2D().GetTextActor().GetProperty().SetColor(1, 0, 0)  # X轴为红色\n",
    "axes.GetYAxisCaptionActor2D().GetTextActor().GetProperty().SetColor(0, 1, 0)  # Y轴为绿色\n",
    "axes.GetZAxisCaptionActor2D().GetTextActor().GetProperty().SetColor(0, 0, 1)  # Z轴为蓝色\n",
    "\n",
    "# Adding Coordinates to renderer\n",
    "renderer.AddActor(axes)\n",
    "\n",
    "# Setting Camera Position\n",
    "renderer.GetActiveCamera().SetPosition(-1000, 1000, -5000)  # 摄像机位置\n",
    "renderer.GetActiveCamera().SetFocalPoint(0, 0, 0)  # 摄像机焦点\n",
    "renderer.GetActiveCamera().SetViewUp(-1, 0, 0)  # 设置“上”方向\n",
    "renderer.GetActiveCamera().SetClippingRange(1, 3000)  # 设置裁剪范围"
   ]
  },
  {
   "cell_type": "code",
   "execution_count": 4,
   "metadata": {},
   "outputs": [],
   "source": [
    "# Polaris Data Streaming Thread\n",
    "polaris_matrix = np.eye(4) # Initialize polaris matrix\n",
    "frame_idx = 0 # Initialize frame index\n",
    "# Thread-safe queue\n",
    "data_queue = queue.Queue() # Initialize data queue\n",
    "\n",
    "def read_polaris_data(recording, frame_idx):\n",
    "    row = recording.iloc[frame_idx]\n",
    "    tracking = row[3]  # Extract tracking data from the recorded data\n",
    "    # Extract numbers from the tracking data\n",
    "    numbers = [float(x) if x != \"nan\" else np.nan for x in re.findall(r\"nan|[-+]?\\d*\\.\\d+e[+-]?\\d+|[-+]?\\d*\\.\\d+|\\d+\", tracking)]\n",
    "    tracking_matrix = np.array(numbers).reshape(4, 4)\n",
    "\n",
    "    return tracking_matrix\n",
    "\n",
    "def polaris_thread():\n",
    "    global polaris_matrix\n",
    "    global frame_idx\n",
    "    while True:\n",
    "        # Read polaris data\n",
    "        new_matrix = read_polaris_data(recording, frame_idx)\n",
    "        # Put the data into the queue\n",
    "        data_queue.put(new_matrix)\n",
    "        # Increment the frame index\n",
    "        frame_idx += 1\n",
    "        # Sleep for 1/400 seconds\n",
    "        time.sleep(1/400)\n"
   ]
  },
  {
   "cell_type": "code",
   "execution_count": 5,
   "metadata": {},
   "outputs": [],
   "source": [
    "# VTK Update Thread\n",
    "def update_pose():\n",
    "    global polaris_matrix\n",
    "\n",
    "    if not data_queue.empty():\n",
    "        # Get the latest data from the queue\n",
    "        polaris_matrix = data_queue.get() \n",
    "        # Create a transform\n",
    "        transform = vtk.vtkTransform()\n",
    "        # Set the matrix of the transform\n",
    "        transform.SetMatrix(polaris_matrix.flatten()) \n",
    "        # Set the user transform of the actor\n",
    "        tool_actor.SetUserTransform(transform)\n",
    "        # Render the window\n",
    "        render_window.Render()"
   ]
  },
  {
   "cell_type": "code",
   "execution_count": null,
   "metadata": {},
   "outputs": [],
   "source": [
    "# Read the recording data\n",
    "recording = pd.read_csv('recording.csv', header=None)\n",
    "# Start the polaris thread\n",
    "tracking_thread = threading.Thread(target=polaris_thread, daemon=True)\n",
    "tracking_thread.start()\n",
    "\n",
    "# Initialize the application\n",
    "app = QApplication(sys.argv)\n",
    "# Create a timer\n",
    "timer = QTimer()\n",
    "# Connect the timer to the update_pose function\n",
    "timer.timeout.connect(update_pose)\n",
    "# Start the timer\n",
    "timer.start(1) \n",
    "\n",
    "# Render the window\n",
    "render_window.Render()\n",
    "render_window_interactor.Initialize()\n",
    "render_window_interactor.Start()\n"
   ]
  }
 ],
 "metadata": {
  "kernelspec": {
   "display_name": "ndi",
   "language": "python",
   "name": "python3"
  },
  "language_info": {
   "codemirror_mode": {
    "name": "ipython",
    "version": 3
   },
   "file_extension": ".py",
   "mimetype": "text/x-python",
   "name": "python",
   "nbconvert_exporter": "python",
   "pygments_lexer": "ipython3",
   "version": "3.9.21"
  }
 },
 "nbformat": 4,
 "nbformat_minor": 2
}
