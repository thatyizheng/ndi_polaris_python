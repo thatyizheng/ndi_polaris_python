{
 "cells": [
  {
   "cell_type": "code",
   "execution_count": 1,
   "metadata": {},
   "outputs": [],
   "source": [
    "import vtk\n",
    "import os\n",
    "import random\n",
    "import numpy as np\n"
   ]
  },
  {
   "cell_type": "code",
   "execution_count": 2,
   "metadata": {},
   "outputs": [],
   "source": [
    "# Initialize the render window and interactor\n",
    "renderer = vtk.vtkRenderer()\n",
    "render_window = vtk.vtkRenderWindow()\n",
    "render_window.AddRenderer(renderer)\n",
    "render_window.SetSize(2000, 1600)\n",
    "\n",
    "render_window_interactor = vtk.vtkRenderWindowInteractor()\n",
    "render_window_interactor.SetRenderWindow(render_window)"
   ]
  },
  {
   "cell_type": "code",
   "execution_count": null,
   "metadata": {},
   "outputs": [],
   "source": [
    "cwd = os.getcwd()\n",
    "models = []\n",
    "for file in os.listdir(cwd + '/' + 'slicer_files/'):\n",
    "    if file.endswith('.vtk') or file.endswith('.stl'):\n",
    "        models.append(file)\n",
    "\n",
    "print(models)"
   ]
  },
  {
   "cell_type": "code",
   "execution_count": 4,
   "metadata": {},
   "outputs": [],
   "source": [
    "transformation_matrix = np.array([[-1.30866820e-02,  9.98415042e-01,  5.47370336e-02,  1.25183027e+02],\n",
    "                        [ 9.88019474e-01,  2.13301560e-02, -1.52848106e-01, -1.24802059e+02],\n",
    "                        [-1.53773398e-01,  5.20809806e-02, -9.86732645e-01, -1.26559772e+03],\n",
    "                        [ 0.00000000e+00,  0.00000000e+00,  0.00000000e+00,  1.00000000e+00]])"
   ]
  },
  {
   "cell_type": "code",
   "execution_count": 5,
   "metadata": {},
   "outputs": [],
   "source": [
    "# Loop through model files, load them, and add them to the renderer\n",
    "for file in models:\n",
    "    if file.endswith(\".stl\"):\n",
    "        reader = vtk.vtkSTLReader()\n",
    "        reader.SetFileName(cwd + '/' + 'slicer_files/' + file)\n",
    "    elif file.endswith(\".vtk\"):\n",
    "        reader = vtk.vtkPolyDataReader()\n",
    "        reader.SetFileName(cwd + '/' + 'slicer_files/' + file)\n",
    "    else:\n",
    "        continue  # Skip unsupported formats\n",
    "\n",
    "    # Update the reader to load the data\n",
    "    reader.Update()\n",
    "\n",
    "    # Create a mapper and actor to display the model\n",
    "    mapper = vtk.vtkPolyDataMapper()\n",
    "    mapper.SetInputData(reader.GetOutput())\n",
    "    actor = vtk.vtkActor()\n",
    "    actor.SetMapper(mapper)\n",
    "    actor.GetProperty().SetColor(random.randint(0, 255)/255, random.randint(0, 255)/255, random.randint(0, 255)/255)\n",
    "\n",
    "    transform = vtk.vtkTransform()\n",
    "    transform.SetMatrix(transformation_matrix.flatten()) \n",
    "    actor.SetUserTransform(transform)\n",
    "\n",
    "\n",
    "    if file.startswith(\"Box\"):\n",
    "        actor.GetProperty().SetOpacity(0.05)  # 设置透明度 (0.0 - 完全透明, 1.0 - 完全不透明)\n",
    "    if file.startswith(\"Box_1\"):\n",
    "        actor.GetProperty().SetOpacity(0.00)  # 设置透明度 (0.0 - 完全透明, 1.0 - 完全不透明)\n",
    "    # Add the actor to the renderer\n",
    "    renderer.AddActor(actor)"
   ]
  },
  {
   "cell_type": "code",
   "execution_count": 6,
   "metadata": {},
   "outputs": [],
   "source": [
    "# Set the background color of the renderer\n",
    "renderer.SetBackground(1, 1, 1)\n",
    "\n",
    "# Add a coordinate axis\n",
    "axes = vtk.vtkAxesActor()\n",
    "axes.SetTotalLength(200, 200, 200)\n",
    "axes.SetAxisLabels(True)\n",
    "\n",
    "# Set axis labels' positions and colors\n",
    "axes.GetXAxisCaptionActor2D().GetTextActor().GetPositionCoordinate().SetCoordinateSystemToNormalizedDisplay()\n",
    "axes.GetYAxisCaptionActor2D().GetTextActor().GetPositionCoordinate().SetCoordinateSystemToNormalizedDisplay()\n",
    "axes.GetZAxisCaptionActor2D().GetTextActor().GetPositionCoordinate().SetCoordinateSystemToNormalizedDisplay()\n",
    "\n",
    "axes.GetXAxisCaptionActor2D().GetTextActor().GetProperty().SetColor(1, 0, 0)  # Red for X-axis\n",
    "axes.GetYAxisCaptionActor2D().GetTextActor().GetProperty().SetColor(0, 1, 0)  # Green for Y-axis\n",
    "axes.GetZAxisCaptionActor2D().GetTextActor().GetProperty().SetColor(0, 0, 1)  # Blue for Z-axis\n",
    "\n",
    "# Add the axes to the renderer\n",
    "renderer.AddActor(axes)\n"
   ]
  },
  {
   "cell_type": "code",
   "execution_count": null,
   "metadata": {},
   "outputs": [],
   "source": [
    "# Set the camera position and other view properties\n",
    "camera = renderer.GetActiveCamera()\n",
    "camera.SetPosition(-1000, 1000, -3000)  # Cdmera position\n",
    "camera.SetFocalPoint(0, 0, 0)  # Camera focal point\n",
    "camera.SetViewUp(-1, 0, 0)  # View up direction\n",
    "camera.SetClippingRange(1, 3000)  # Clipping range\n",
    "\n",
    "# light = vtk.vtkLight()\n",
    "# light.SetPosition(-1000, 1000, 5000)  # Set the position of the light source\n",
    "# light.SetFocalPoint(0, 0, 0)  # Light is focused on the center of the scene\n",
    "# renderer.AddLight(light)\n",
    "\n",
    "# Start the rendering loop\n",
    "render_window.Render()\n",
    "render_window_interactor.Start()"
   ]
  }
 ],
 "metadata": {
  "kernelspec": {
   "display_name": "ndi",
   "language": "python",
   "name": "python3"
  },
  "language_info": {
   "codemirror_mode": {
    "name": "ipython",
    "version": 3
   },
   "file_extension": ".py",
   "mimetype": "text/x-python",
   "name": "python",
   "nbconvert_exporter": "python",
   "pygments_lexer": "ipython3",
   "version": "3.9.21"
  }
 },
 "nbformat": 4,
 "nbformat_minor": 2
}
