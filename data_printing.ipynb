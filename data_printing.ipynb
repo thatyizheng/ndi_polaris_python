{
 "cells": [
  {
   "cell_type": "code",
   "execution_count": 1,
   "metadata": {},
   "outputs": [],
   "source": [
    "from sksurgerynditracker.nditracker import NDITracker\n",
    "import time\n",
    "import sys\n",
    "import numpy as np"
   ]
  },
  {
   "cell_type": "code",
   "execution_count": 2,
   "metadata": {},
   "outputs": [],
   "source": [
    "SETTINGS = {\n",
    "    \"tracker type\": \"vega\",\n",
    "    \"ip address\": \"169.254.7.250\",\n",
    "    \"port\": 8765,\n",
    "    # Mac Path\n",
    "    # \"romfiles\": [\"/Users/yizheng/Desktop/Dartmouth/lab work/ARPAH/Polaris Vega XT/tool_defs/medtronic_chicken_foot_960_556.rom\"]\n",
    "    # Windows Path\n",
    "    \"romfiles\": [\"C:\\\\Users\\\\f007wsq\\\\Desktop\\\\tools_and_models\\\\tool_defs\\\\medtronic_chicken_foot_960_556.rom\"]\n",
    "}"
   ]
  },
  {
   "cell_type": "code",
   "execution_count": 3,
   "metadata": {},
   "outputs": [],
   "source": [
    "# Initialize the tracker\n",
    "tracker = NDITracker(SETTINGS)"
   ]
  },
  {
   "cell_type": "code",
   "execution_count": null,
   "metadata": {},
   "outputs": [
    {
     "name": "stdout",
     "output_type": "stream",
     "text": [
      "Tracking Quality: nan | Rate: 370.013 HzHz"
     ]
    }
   ],
   "source": [
    "tracker.start_tracking()\n",
    "old_time = 0\n",
    "count = 0\n",
    "rate_obs = []\n",
    "quality_obs = []\n",
    "\n",
    "try:\n",
    "    while True:\n",
    "        # Get tool tracking data\n",
    "        port_handles, timestamps, framenumbers, tracking, quality = tracker.get_frame()\n",
    "        time = timestamps[0]\n",
    "\n",
    "        if timestamps != old_time:\n",
    "            count = count + 1\n",
    "            # get the time interval between the current and previous frame\n",
    "            interval = time - old_time\n",
    "\n",
    "            # calculate the rate of the tracker\n",
    "            rate = 1 / interval if interval > 1e-6 else 0  \n",
    "\n",
    "            # save the readings\n",
    "            rate_obs.append(rate)\n",
    "            quality_obs.append(quality)\n",
    "\n",
    "            # update the old time\n",
    "            old_time = time\n",
    "\n",
    "            # print the rate every 1000 frames\n",
    "            if count % 100 == 0:\n",
    "                sys.stdout.write(f\"\\rTracking Quality: {np.mean(quality_obs):.3f} | Rate: {np.mean(rate_obs):.3f} Hz\")\n",
    "                sys.stdout.flush()\n",
    "\n",
    "                quality_obs = []\n",
    "                rate_obs = []\n",
    "            \n",
    "except KeyboardInterrupt:\n",
    "    print(\"Stopping tracking...\")\n",
    "finally:\n",
    "    tracker.stop_tracking() # Stop tracking and clean up"
   ]
  }
 ],
 "metadata": {
  "kernelspec": {
   "display_name": "ndi",
   "language": "python",
   "name": "python3"
  },
  "language_info": {
   "codemirror_mode": {
    "name": "ipython",
    "version": 3
   },
   "file_extension": ".py",
   "mimetype": "text/x-python",
   "name": "python",
   "nbconvert_exporter": "python",
   "pygments_lexer": "ipython3",
   "version": "3.9.21"
  }
 },
 "nbformat": 4,
 "nbformat_minor": 2
}
